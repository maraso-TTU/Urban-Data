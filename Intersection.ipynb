{
 "cells": [
  {
   "cell_type": "code",
   "execution_count": 1,
   "id": "b9e9c34d",
   "metadata": {},
   "outputs": [],
   "source": [
    "import geopandas as gpd\n",
    "import pandas as pd"
   ]
  },
  {
   "cell_type": "code",
   "execution_count": 4,
   "id": "c7257555",
   "metadata": {},
   "outputs": [],
   "source": [
    "UHIdata= gpd.read_file('UHI3525072014/')"
   ]
  },
  {
   "cell_type": "code",
   "execution_count": 5,
   "id": "53b23e26",
   "metadata": {},
   "outputs": [
    {
     "data": {
      "text/html": [
       "<div>\n",
       "<style scoped>\n",
       "    .dataframe tbody tr th:only-of-type {\n",
       "        vertical-align: middle;\n",
       "    }\n",
       "\n",
       "    .dataframe tbody tr th {\n",
       "        vertical-align: top;\n",
       "    }\n",
       "\n",
       "    .dataframe thead th {\n",
       "        text-align: right;\n",
       "    }\n",
       "</style>\n",
       "<table border=\"1\" class=\"dataframe\">\n",
       "  <thead>\n",
       "    <tr style=\"text-align: right;\">\n",
       "      <th></th>\n",
       "      <th>Name</th>\n",
       "      <th>descriptio</th>\n",
       "      <th>timestamp</th>\n",
       "      <th>begin</th>\n",
       "      <th>end</th>\n",
       "      <th>altitudeMo</th>\n",
       "      <th>tessellate</th>\n",
       "      <th>extrude</th>\n",
       "      <th>visibility</th>\n",
       "      <th>drawOrder</th>\n",
       "      <th>...</th>\n",
       "      <th>FID</th>\n",
       "      <th>FID_1</th>\n",
       "      <th>Nimetus</th>\n",
       "      <th>Linn</th>\n",
       "      <th>Satelliit</th>\n",
       "      <th>Kuupaev</th>\n",
       "      <th>Lavend</th>\n",
       "      <th>Shape__Are</th>\n",
       "      <th>Shape__Len</th>\n",
       "      <th>geometry</th>\n",
       "    </tr>\n",
       "  </thead>\n",
       "  <tbody>\n",
       "    <tr>\n",
       "      <th>0</th>\n",
       "      <td>None</td>\n",
       "      <td>None</td>\n",
       "      <td>None</td>\n",
       "      <td>None</td>\n",
       "      <td>None</td>\n",
       "      <td>None</td>\n",
       "      <td>-1</td>\n",
       "      <td>0</td>\n",
       "      <td>-1</td>\n",
       "      <td>None</td>\n",
       "      <td>...</td>\n",
       "      <td>1</td>\n",
       "      <td>551</td>\n",
       "      <td>Soojussaared</td>\n",
       "      <td>Tallinn</td>\n",
       "      <td>Landsat-8</td>\n",
       "      <td>25-07-2014</td>\n",
       "      <td>35</td>\n",
       "      <td>24528.419922</td>\n",
       "      <td>597.071743</td>\n",
       "      <td>POLYGON ((552609.445 6591977.806, 552579.467 6...</td>\n",
       "    </tr>\n",
       "    <tr>\n",
       "      <th>1</th>\n",
       "      <td>None</td>\n",
       "      <td>None</td>\n",
       "      <td>None</td>\n",
       "      <td>None</td>\n",
       "      <td>None</td>\n",
       "      <td>None</td>\n",
       "      <td>-1</td>\n",
       "      <td>0</td>\n",
       "      <td>-1</td>\n",
       "      <td>None</td>\n",
       "      <td>...</td>\n",
       "      <td>2</td>\n",
       "      <td>552</td>\n",
       "      <td>Soojussaared</td>\n",
       "      <td>Tallinn</td>\n",
       "      <td>Landsat-8</td>\n",
       "      <td>25-07-2014</td>\n",
       "      <td>35</td>\n",
       "      <td>1738.054688</td>\n",
       "      <td>166.759918</td>\n",
       "      <td>POLYGON ((540285.941 6591823.380, 540271.628 6...</td>\n",
       "    </tr>\n",
       "  </tbody>\n",
       "</table>\n",
       "<p>2 rows × 21 columns</p>\n",
       "</div>"
      ],
      "text/plain": [
       "   Name descriptio timestamp begin   end altitudeMo  tessellate  extrude  \\\n",
       "0  None       None      None  None  None       None          -1        0   \n",
       "1  None       None      None  None  None       None          -1        0   \n",
       "\n",
       "   visibility drawOrder  ... FID  FID_1       Nimetus     Linn  Satelliit  \\\n",
       "0          -1      None  ...   1    551  Soojussaared  Tallinn  Landsat-8   \n",
       "1          -1      None  ...   2    552  Soojussaared  Tallinn  Landsat-8   \n",
       "\n",
       "      Kuupaev Lavend    Shape__Are  Shape__Len  \\\n",
       "0  25-07-2014     35  24528.419922  597.071743   \n",
       "1  25-07-2014     35   1738.054688  166.759918   \n",
       "\n",
       "                                            geometry  \n",
       "0  POLYGON ((552609.445 6591977.806, 552579.467 6...  \n",
       "1  POLYGON ((540285.941 6591823.380, 540271.628 6...  \n",
       "\n",
       "[2 rows x 21 columns]"
      ]
     },
     "execution_count": 5,
     "metadata": {},
     "output_type": "execute_result"
    }
   ],
   "source": [
    "UHIdata.head(2)"
   ]
  },
  {
   "cell_type": "code",
   "execution_count": 6,
   "id": "7abf32ac",
   "metadata": {},
   "outputs": [],
   "source": [
    "BuildingIdata= gpd.read_file('buldings/')"
   ]
  },
  {
   "cell_type": "code",
   "execution_count": 7,
   "id": "5bbadef9",
   "metadata": {},
   "outputs": [
    {
     "name": "stdout",
     "output_type": "stream",
     "text": [
      "26 has intersection with 4753\n",
      "26 has intersection with 4754\n"
     ]
    },
    {
     "ename": "KeyboardInterrupt",
     "evalue": "",
     "output_type": "error",
     "traceback": [
      "\u001b[0;31m---------------------------------------------------------------------------\u001b[0m",
      "\u001b[0;31mKeyboardInterrupt\u001b[0m                         Traceback (most recent call last)",
      "Input \u001b[0;32mIn [7]\u001b[0m, in \u001b[0;36m<cell line: 2>\u001b[0;34m()\u001b[0m\n\u001b[1;32m      3\u001b[0m B2\u001b[38;5;241m=\u001b[39m[]\n\u001b[1;32m      4\u001b[0m \u001b[38;5;28;01mfor\u001b[39;00m v, o \u001b[38;5;129;01min\u001b[39;00m \u001b[38;5;28mzip\u001b[39m(UHIdata\u001b[38;5;241m.\u001b[39mgeometry, UHIdata\u001b[38;5;241m.\u001b[39mFID):\n\u001b[0;32m----> 5\u001b[0m     intersection_area \u001b[38;5;241m=\u001b[39m r\u001b[38;5;241m.\u001b[39mbuffer(\u001b[38;5;241m0\u001b[39m)\u001b[38;5;241m.\u001b[39mintersection(\u001b[43mv\u001b[49m\u001b[38;5;241;43m.\u001b[39;49m\u001b[43mbuffer\u001b[49m\u001b[43m(\u001b[49m\u001b[38;5;241;43m0\u001b[39;49m\u001b[43m)\u001b[49m)\n\u001b[1;32m      6\u001b[0m     \u001b[38;5;28;01mif\u001b[39;00m \u001b[38;5;129;01mnot\u001b[39;00m intersection_area\u001b[38;5;241m.\u001b[39mis_empty:\n\u001b[1;32m      7\u001b[0m         p \u001b[38;5;241m=\u001b[39m gpd\u001b[38;5;241m.\u001b[39mGeoSeries(intersection_area)\n",
      "File \u001b[0;32m~/p10/lib/python3.10/site-packages/shapely/geometry/base.py:630\u001b[0m, in \u001b[0;36mBaseGeometry.buffer\u001b[0;34m(self, distance, resolution, quadsegs, cap_style, join_style, mitre_limit, single_sided)\u001b[0m\n\u001b[1;32m    628\u001b[0m \u001b[38;5;28;01mtry\u001b[39;00m:\n\u001b[1;32m    629\u001b[0m     \u001b[38;5;28mself\u001b[39m\u001b[38;5;241m.\u001b[39m_lgeos\u001b[38;5;241m.\u001b[39mGEOSBufferParams_setEndCapStyle(params, cap_style)\n\u001b[0;32m--> 630\u001b[0m     \u001b[38;5;28;43mself\u001b[39;49m\u001b[38;5;241;43m.\u001b[39;49m\u001b[43m_lgeos\u001b[49m\u001b[38;5;241;43m.\u001b[39;49m\u001b[43mGEOSBufferParams_setJoinStyle\u001b[49m\u001b[43m(\u001b[49m\u001b[43mparams\u001b[49m\u001b[43m,\u001b[49m\u001b[43m \u001b[49m\u001b[43mjoin_style\u001b[49m\u001b[43m)\u001b[49m\n\u001b[1;32m    631\u001b[0m     \u001b[38;5;28mself\u001b[39m\u001b[38;5;241m.\u001b[39m_lgeos\u001b[38;5;241m.\u001b[39mGEOSBufferParams_setMitreLimit(params, mitre_limit)\n\u001b[1;32m    632\u001b[0m     \u001b[38;5;28mself\u001b[39m\u001b[38;5;241m.\u001b[39m_lgeos\u001b[38;5;241m.\u001b[39mGEOSBufferParams_setQuadrantSegments(params, res)\n",
      "\u001b[0;31mKeyboardInterrupt\u001b[0m: "
     ]
    }
   ],
   "source": [
    "B1=[]\n",
    "for r,s in zip(BuildingIdata.geometry,BuildingIdata.objectid):\n",
    "    B2=[]\n",
    "    for v, o in zip(UHIdata.geometry, UHIdata.FID):\n",
    "        intersection_area = r.buffer(0).intersection(v.buffer(0))\n",
    "        if not intersection_area.is_empty:\n",
    "            p = gpd.GeoSeries(intersection_area)\n",
    "            print(f\"{int(o)} has intersection with {s}\")\n",
    "            B1.append(int(o))\n",
    "    B2.append(B1)\n",
    "    "
   ]
  },
  {
   "cell_type": "code",
   "execution_count": null,
   "id": "988a0a25",
   "metadata": {},
   "outputs": [],
   "source": []
  }
 ],
 "metadata": {
  "kernelspec": {
   "display_name": "Python 3 (ipykernel)",
   "language": "python",
   "name": "python3"
  },
  "language_info": {
   "codemirror_mode": {
    "name": "ipython",
    "version": 3
   },
   "file_extension": ".py",
   "mimetype": "text/x-python",
   "name": "python",
   "nbconvert_exporter": "python",
   "pygments_lexer": "ipython3",
   "version": "3.10.7"
  }
 },
 "nbformat": 4,
 "nbformat_minor": 5
}
